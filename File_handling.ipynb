{
 "cells": [
  {
   "cell_type": "markdown",
   "id": "850bc167",
   "metadata": {},
   "source": [
    "# File handling"
   ]
  },
  {
   "cell_type": "code",
   "execution_count": 3,
   "id": "967e8269",
   "metadata": {},
   "outputs": [],
   "source": [
    "# write a program to write different sentences to a file\n",
    "def main():\n",
    "    obj1 = open(\"Demo1.txt\",\"w\")\n",
    "    obj1.write(\"Hello,How are you?  \\n\")\n",
    "    obj1.write(\"Welcome to the Session  \\n\")\n",
    "    obj1.write(\"Enjoy the chapter \\n\")\n",
    "main()"
   ]
  },
  {
   "cell_type": "code",
   "execution_count": 7,
   "id": "17d98b64",
   "metadata": {},
   "outputs": [],
   "source": [
    "# write a program to print 1 to 49 in a file\n",
    "def main():\n",
    "    obj2 = open(\"Demo2.txt\",\"w\")\n",
    "    for i in range(1,50):\n",
    "        i = str(i)\n",
    "        obj2.write(i)\n",
    "        obj2.write(\" \")\n",
    "    obj2.close()\n",
    "main()\n",
    "        "
   ]
  },
  {
   "cell_type": "code",
   "execution_count": 11,
   "id": "938bd06f",
   "metadata": {},
   "outputs": [],
   "source": [
    "# Generate 50 random numbers within range 500 to 1000 and write them to a file WriteNumRandom.txt\n",
    "import random\n",
    "def main():\n",
    "    obj3 = open(\"WriteNumRandom.txt\",\"w\")\n",
    "    for i in range(51):\n",
    "        \n",
    "        i = random.randint(500,1000)\n",
    "        i = str(i)\n",
    "        obj3.write(i)\n",
    "        obj3.write(\" \")\n",
    "    obj3.close()\n",
    "main()"
   ]
  },
  {
   "cell_type": "code",
   "execution_count": 16,
   "id": "2355749d",
   "metadata": {},
   "outputs": [
    {
     "name": "stdout",
     "output_type": "stream",
     "text": [
      "1 2 3 4 5 6 7 8 9 10 11 12 13 14 15 16 17 18 19 20 21 22 23 24 25 26 27 28 29 30 31 32 33 34 35 36 37 38 39 40 41 42 43 44 45 46 47 48 49 \n"
     ]
    }
   ],
   "source": [
    "#Read a text from a file\n",
    "obj4 = open(\"Demo2.txt\",\"r\")\n",
    "text =  obj4.read()\n",
    "print(text)\n"
   ]
  },
  {
   "cell_type": "code",
   "execution_count": 2,
   "id": "2296ed7a",
   "metadata": {},
   "outputs": [
    {
     "name": "stdout",
     "output_type": "stream",
     "text": [
      "1 2 3 4 5 6 7 8 9 10 11 12 13 14 15 16 17 18 19 20 21 22 23 24 25 26 27 28 29 30 31 32 33 34 35 36 37 38 39 40 41 42 43 44 45 46 47 48 49 \n"
     ]
    }
   ],
   "source": [
    "# other way\n",
    "\n",
    "obj4 = open(\"Demo2.txt\",\"r\")\n",
    "for txt in obj4:\n",
    "    print(txt)\n",
    "    "
   ]
  },
  {
   "cell_type": "code",
   "execution_count": 7,
   "id": "ff42b335",
   "metadata": {},
   "outputs": [
    {
     "name": "stdout",
     "output_type": "stream",
     "text": [
      "5\n",
      " The 5 numbers represent in the file are as follows :\n",
      "6\n",
      "7\n",
      "8\n",
      "9\n",
      "10\n",
      "sum of all the numbers(expect first) :  40\n"
     ]
    }
   ],
   "source": [
    "# write a program to add the content of a file and display the sum of all numbers .\n",
    "obj5 = open(\"numbers.txt\",\"r\")\n",
    "num = int(obj5.readline())\n",
    "print(num)\n",
    "sum = 0\n",
    "print(\" The\",num,\"numbers represent in the file are as follows :\")\n",
    "for i in range(num):\n",
    "    num1 = int(obj5.readline())\n",
    "    print(num1)\n",
    "    sum = num1 +sum \n",
    "print(\"sum of all the numbers(expect first) : \",sum)\n",
    "\n"
   ]
  },
  {
   "cell_type": "code",
   "execution_count": null,
   "id": "436ddc50",
   "metadata": {},
   "outputs": [],
   "source": []
  }
 ],
 "metadata": {
  "kernelspec": {
   "display_name": "Python 3",
   "language": "python",
   "name": "python3"
  },
  "language_info": {
   "codemirror_mode": {
    "name": "ipython",
    "version": 3
   },
   "file_extension": ".py",
   "mimetype": "text/x-python",
   "name": "python",
   "nbconvert_exporter": "python",
   "pygments_lexer": "ipython3",
   "version": "3.8.0"
  }
 },
 "nbformat": 4,
 "nbformat_minor": 5
}
