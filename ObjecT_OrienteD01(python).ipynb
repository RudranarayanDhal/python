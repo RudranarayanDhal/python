{
 "cells": [
  {
   "cell_type": "code",
   "execution_count": 4,
   "id": "778ace63",
   "metadata": {},
   "outputs": [
    {
     "name": "stdout",
     "output_type": "stream",
     "text": [
      "Rudra\n",
      "100\n",
      "Hello my name is:  Rudra\n",
      "Hello my rollno is: 100\n",
      "Satya\n",
      "101\n",
      "Hello my name is:  Satya\n",
      "Hello my rollno is: 101\n"
     ]
    }
   ],
   "source": [
    "class Student:\n",
    "    def __init__(self,rollno,name):\n",
    "        self.name = name\n",
    "        self.rollno=rollno\n",
    "        \n",
    "    def talk(self):\n",
    "        print(\"Hello my name is: \",self.name)\n",
    "        print(\"Hello my rollno is:\",self.rollno)\n",
    "        \n",
    "s = Student(100,'Rudra')\n",
    "s1 = Student(101,'Satya')\n",
    "print(s.name)\n",
    "print(s.rollno)\n",
    "s.talk()\n",
    "print(s1.name)\n",
    "print(s1.rollno)\n",
    "s1.talk()"
   ]
  },
  {
   "cell_type": "code",
   "execution_count": 8,
   "id": "bd83b630",
   "metadata": {},
   "outputs": [
    {
     "name": "stdout",
     "output_type": "stream",
     "text": [
      "********************\n",
      "Employee no  10\n",
      "Employee name  Satya\n",
      "Employee salary  100000\n",
      "Employee address  Keonjhar\n",
      "********************\n",
      "********************\n",
      "Employee no  29\n",
      "Employee name  Subha\n",
      "Employee salary  100100\n",
      "Employee address  Keonjhar market\n",
      "********************\n"
     ]
    }
   ],
   "source": [
    "class Employee:\n",
    "    def __init__(self,eno,ename,esal,eadd):\n",
    "        self.ename =ename \n",
    "        self.eno=eno\n",
    "        self.esal = esal\n",
    "        self.eadd = eadd\n",
    "    def info(self):\n",
    "        print('*' * 20)\n",
    "        print(\"Employee no \",self.eno)\n",
    "        print(\"Employee name \",self.ename)\n",
    "        print(\"Employee salary \",self.esal)\n",
    "        print(\"Employee address \",self.eadd)\n",
    "        print('*' * 20)\n",
    "        \n",
    "e1=Employee(10,'Satya',100000,'Keonjhar')\n",
    "e2 =Employee(29,'Subha',100100,'Keonjhar market')\n",
    "e1.info()\n",
    "e2.info()\n",
    "\n",
    "        \n",
    "    \n",
    "        \n",
    "        \n",
    "        "
   ]
  },
  {
   "cell_type": "markdown",
   "id": "c85f1277",
   "metadata": {},
   "source": [
    "# To display the doc string\n",
    "* Here ''' Python is a programming language''' is the doc string"
   ]
  },
  {
   "cell_type": "code",
   "execution_count": 9,
   "id": "79a22998",
   "metadata": {},
   "outputs": [
    {
     "name": "stdout",
     "output_type": "stream",
     "text": [
      " Python is a programming language\n"
     ]
    }
   ],
   "source": [
    "class Student:\n",
    "    ''' Python is a programming language'''\n",
    "print(Student.__doc__)"
   ]
  },
  {
   "cell_type": "markdown",
   "id": "2f29ed50",
   "metadata": {},
   "source": [
    "# help() -To get complete information about a class\n"
   ]
  },
  {
   "cell_type": "code",
   "execution_count": 10,
   "id": "67d3bcca",
   "metadata": {},
   "outputs": [
    {
     "name": "stdout",
     "output_type": "stream",
     "text": [
      " Python is a programming language\n",
      "<class '__main__.Student'>\n"
     ]
    }
   ],
   "source": [
    "class Student:\n",
    "    ''' Python is a programming language'''\n",
    "print(Student.__doc__)\n",
    "print(Student)"
   ]
  },
  {
   "cell_type": "code",
   "execution_count": 3,
   "id": "bd6d2502",
   "metadata": {},
   "outputs": [
    {
     "name": "stdout",
     "output_type": "stream",
     "text": [
      "2287340225440\n",
      "2287340225440\n",
      "2287339981600\n",
      "2287339981600\n"
     ]
    }
   ],
   "source": [
    "class Student:\n",
    "    def __init__(self):\n",
    "        print(id(self))\n",
    "s1 = Student()\n",
    "print(id(s1))\n",
    "s2 = Student()\n",
    "print(id(s2))\n",
    "        "
   ]
  },
  {
   "cell_type": "markdown",
   "id": "a498228a",
   "metadata": {},
   "source": [
    "# ------------------------------------------------------------------------------"
   ]
  },
  {
   "cell_type": "code",
   "execution_count": 7,
   "id": "b699cef8",
   "metadata": {},
   "outputs": [
    {
     "name": "stdout",
     "output_type": "stream",
     "text": [
      "********************\n",
      "Employee no  10\n",
      "Employee name  satya\n",
      "Employee salary  100000\n",
      "Employee address  Keonjhar\n",
      "********************\n",
      "********************\n",
      "Employee no  29\n",
      "Employee name  100010\n",
      "Employee salary  Subha\n",
      "Employee address  Keonjhar market\n",
      "********************\n"
     ]
    }
   ],
   "source": [
    "class Employee:\n",
    "    def __init__(self,eno,ename,esal,eadd):\n",
    "        self.ename =ename \n",
    "        self.eno=eno\n",
    "        self.esal = esal\n",
    "        self.eadd = eadd\n",
    "    def info(self):\n",
    "        print('*' * 20)\n",
    "        print(\"Employee no \",self.eno)\n",
    "        print(\"Employee name \",self.ename)\n",
    "        print(\"Employee salary \",self.esal)\n",
    "        print(\"Employee address \",self.eadd)\n",
    "        print('*' * 20)\n",
    "        \n",
    "e1=Employee(eno = 10,esal = 100000,ename ='satya',eadd ='Keonjhar')\n",
    "e2 =Employee(29,100010,'Subha','Keonjhar market')\n",
    "e1.info()\n",
    "e2.info()\n"
   ]
  },
  {
   "cell_type": "markdown",
   "id": "72df0d27",
   "metadata": {},
   "source": [
    "* instead of self we can use any variable\n",
    "* self is not inbuilt variable\n",
    "* whatever variable we are passing instead of self it will internally work as self\n",
    "* but recommended to use 'self ' because of good programming practice"
   ]
  },
  {
   "cell_type": "code",
   "execution_count": 10,
   "id": "e02b501c",
   "metadata": {},
   "outputs": [
    {
     "name": "stdout",
     "output_type": "stream",
     "text": [
      "Rudra\n",
      "100\n",
      "Hello my name is:  Rudra\n",
      "Hello my rollno is: 100\n",
      "Satya\n",
      "101\n",
      "Hello my name is:  Satya\n",
      "Hello my rollno is: 101\n"
     ]
    }
   ],
   "source": [
    "class Student:\n",
    "    def __init__(s,rollno,name):\n",
    "        s.name = name\n",
    "        s.rollno=rollno\n",
    "        \n",
    "    def talk(x):\n",
    "        print(\"Hello my name is: \",x.name)\n",
    "        print(\"Hello my rollno is:\",x.rollno)\n",
    "        \n",
    "s = Student(100,'Rudra')\n",
    "s1 = Student(101,'Satya')\n",
    "print(s.name)\n",
    "print(s.rollno)\n",
    "s.talk()\n",
    "print(s1.name)\n",
    "print(s1.rollno)\n",
    "s1.talk()"
   ]
  },
  {
   "cell_type": "code",
   "execution_count": null,
   "id": "e1ed19d5",
   "metadata": {},
   "outputs": [],
   "source": []
  }
 ],
 "metadata": {
  "kernelspec": {
   "display_name": "Python 3",
   "language": "python",
   "name": "python3"
  },
  "language_info": {
   "codemirror_mode": {
    "name": "ipython",
    "version": 3
   },
   "file_extension": ".py",
   "mimetype": "text/x-python",
   "name": "python",
   "nbconvert_exporter": "python",
   "pygments_lexer": "ipython3",
   "version": "3.8.8"
  }
 },
 "nbformat": 4,
 "nbformat_minor": 5
}
