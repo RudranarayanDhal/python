{
 "cells": [
  {
   "cell_type": "markdown",
   "id": "8f1789da",
   "metadata": {},
   "source": [
    "# STACK"
   ]
  },
  {
   "cell_type": "markdown",
   "id": "67e57316",
   "metadata": {},
   "source": [
    "# * There are two general operations of stack\n",
    "* 1)push ------- here is append()\n",
    "* 2)pop  ------- here is pop()"
   ]
  },
  {
   "cell_type": "markdown",
   "id": "9b641885",
   "metadata": {},
   "source": [
    "# Using List as a STACK"
   ]
  },
  {
   "cell_type": "code",
   "execution_count": 10,
   "id": "54dce601",
   "metadata": {},
   "outputs": [
    {
     "name": "stdout",
     "output_type": "stream",
     "text": [
      "[10]\n",
      "[10, 20]\n",
      "[10, 20, 30]\n",
      "[10, 20, 30, 40]\n"
     ]
    }
   ],
   "source": [
    "stack =[]\n",
    "stack.append(10)\n",
    "print(stack)\n",
    "stack.append(20)\n",
    "print(stack)\n",
    "stack.append(30)\n",
    "print(stack)\n",
    "stack.append(40)\n",
    "print(stack)"
   ]
  },
  {
   "cell_type": "code",
   "execution_count": 11,
   "id": "50617225",
   "metadata": {},
   "outputs": [
    {
     "name": "stdout",
     "output_type": "stream",
     "text": [
      "[10, 30, 40]\n"
     ]
    }
   ],
   "source": [
    "stack.pop(1)# insex 1 = 20\n",
    "print(stack)"
   ]
  },
  {
   "cell_type": "code",
   "execution_count": 12,
   "id": "51f6a86f",
   "metadata": {},
   "outputs": [
    {
     "name": "stdout",
     "output_type": "stream",
     "text": [
      "[10, 30]\n",
      "[10]\n",
      "[]\n"
     ]
    }
   ],
   "source": [
    "stack.pop( )\n",
    "print(stack)\n",
    "stack.pop( )\n",
    "print(stack)\n",
    "stack.pop( )\n",
    "print(stack)"
   ]
  },
  {
   "cell_type": "code",
   "execution_count": 13,
   "id": "1b995895",
   "metadata": {},
   "outputs": [
    {
     "ename": "IndexError",
     "evalue": "pop from empty list",
     "output_type": "error",
     "traceback": [
      "\u001b[1;31m---------------------------------------------------------------------------\u001b[0m",
      "\u001b[1;31mIndexError\u001b[0m                                Traceback (most recent call last)",
      "\u001b[1;32m<ipython-input-13-415460d3b717>\u001b[0m in \u001b[0;36m<module>\u001b[1;34m\u001b[0m\n\u001b[1;32m----> 1\u001b[1;33m \u001b[0mstack\u001b[0m\u001b[1;33m.\u001b[0m\u001b[0mpop\u001b[0m\u001b[1;33m(\u001b[0m\u001b[1;33m)\u001b[0m\u001b[1;33m\u001b[0m\u001b[1;33m\u001b[0m\u001b[0m\n\u001b[0m",
      "\u001b[1;31mIndexError\u001b[0m: pop from empty list"
     ]
    }
   ],
   "source": [
    "stack.pop() # list is empty"
   ]
  },
  {
   "cell_type": "markdown",
   "id": "d03644ed",
   "metadata": {},
   "source": [
    "*To check stack is empty or not"
   ]
  },
  {
   "cell_type": "code",
   "execution_count": 14,
   "id": "37a9afb5",
   "metadata": {},
   "outputs": [
    {
     "data": {
      "text/plain": [
       "True"
      ]
     },
     "execution_count": 14,
     "metadata": {},
     "output_type": "execute_result"
    }
   ],
   "source": [
    "len(stack) == 0"
   ]
  },
  {
   "cell_type": "code",
   "execution_count": 15,
   "id": "d8eb0880",
   "metadata": {},
   "outputs": [
    {
     "data": {
      "text/plain": [
       "True"
      ]
     },
     "execution_count": 15,
     "metadata": {},
     "output_type": "execute_result"
    }
   ],
   "source": [
    "not stack"
   ]
  },
  {
   "cell_type": "code",
   "execution_count": 17,
   "id": "ef7aab87",
   "metadata": {},
   "outputs": [
    {
     "name": "stdout",
     "output_type": "stream",
     "text": [
      "Enter the choice 1.push 2.pop 3.quit\n",
      "1\n",
      "Enter the element :13\n",
      "13\n",
      "Enter the choice 1.push 2.pop 3.quit\n",
      "1\n",
      "Enter the element :12\n",
      "12\n",
      "Enter the choice 1.push 2.pop 3.quit\n",
      "1\n",
      "Enter the element :11\n",
      "11\n",
      "Enter the choice 1.push 2.pop 3.quit\n",
      "1\n",
      "Enter the element :10\n",
      "10\n",
      "Enter the choice 1.push 2.pop 3.quit\n",
      "2\n",
      "Element popped is 10\n",
      "['13', '12', '11']\n",
      "Enter the choice 1.push 2.pop 3.quit\n",
      "2\n",
      "Element popped is 11\n",
      "['13', '12']\n",
      "Enter the choice 1.push 2.pop 3.quit\n",
      "2\n",
      "Element popped is 12\n",
      "['13']\n",
      "Enter the choice 1.push 2.pop 3.quit\n",
      "2\n",
      "Element popped is 13\n",
      "[]\n",
      "Enter the choice 1.push 2.pop 3.quit\n",
      "2\n",
      "Stack is empty\n",
      "Enter the choice 1.push 2.pop 3.quit\n",
      "3\n"
     ]
    }
   ],
   "source": [
    "# write a program to do push and pop operation in stack by using function\n",
    "stack = []\n",
    "def push():\n",
    "    element = input(\"Enter the element :\")\n",
    "    stack.append(element)\n",
    "    print(element)\n",
    "def pop_element():\n",
    "    if len(stack)== 0:\n",
    "        print(\"Stack is empty\")\n",
    "    else:\n",
    "        e =stack.pop()\n",
    "        print(\"Element popped is\",e)\n",
    "        print(stack)\n",
    "        \n",
    "while True:\n",
    "    print(\"Enter the choice 1.push 2.pop 3.quit\")\n",
    "    choice= int(input())\n",
    "    if choice == 1:\n",
    "        push()\n",
    "    elif choice == 2:\n",
    "        pop_element()\n",
    "    elif choice == 3:\n",
    "        break\n",
    "    else:\n",
    "        print(\"Enter the correct operation\")\n",
    "        "
   ]
  },
  {
   "cell_type": "code",
   "execution_count": 20,
   "id": "8d72e9b7",
   "metadata": {},
   "outputs": [
    {
     "name": "stdout",
     "output_type": "stream",
     "text": [
      "Enter the limit of stack5\n",
      "Enter the choice 1.push 2.pop 3.quit\n",
      "1\n",
      "Enter the element :1\n",
      "1\n",
      "['1']\n",
      "Enter the choice 1.push 2.pop 3.quit\n",
      "1\n",
      "Enter the element :10\n",
      "10\n",
      "['1', '10']\n",
      "Enter the choice 1.push 2.pop 3.quit\n",
      "1\n",
      "Enter the element :24\n",
      "24\n",
      "['1', '10', '24']\n",
      "Enter the choice 1.push 2.pop 3.quit\n",
      "1\n",
      "Enter the element :29\n",
      "29\n",
      "['1', '10', '24', '29']\n",
      "Enter the choice 1.push 2.pop 3.quit\n",
      "1\n",
      "Enter the element :2\n",
      "2\n",
      "['1', '10', '24', '29', '2']\n",
      "Enter the choice 1.push 2.pop 3.quit\n",
      "2\n",
      "Element popped is 2\n",
      "['1', '10', '24', '29']\n",
      "Enter the choice 1.push 2.pop 3.quit\n",
      "2\n",
      "Element popped is 29\n",
      "['1', '10', '24']\n",
      "Enter the choice 1.push 2.pop 3.quit\n",
      "2\n",
      "Element popped is 24\n",
      "['1', '10']\n",
      "Enter the choice 1.push 2.pop 3.quit\n",
      "2\n",
      "Element popped is 10\n",
      "['1']\n",
      "Enter the choice 1.push 2.pop 3.quit\n",
      "2\n",
      "Element popped is 1\n",
      "[]\n",
      "Enter the choice 1.push 2.pop 3.quit\n",
      "2\n",
      "Stack is empty\n",
      "Enter the choice 1.push 2.pop 3.quit\n",
      "3\n"
     ]
    }
   ],
   "source": [
    "# write a program to do push and pop operation in stack by using function and have a limit for enter number of elements in stack\n",
    "stack1 = []\n",
    "def push():\n",
    "    if len(stack1) == n:\n",
    "        print(\"Stack is FULL\")\n",
    "    else:\n",
    "        element = input(\"Enter the element :\")\n",
    "        stack1.append(element)\n",
    "        print(element)\n",
    "        print(stack1)\n",
    "def pop_element():\n",
    "    if len(stack1)== 0:\n",
    "        print(\"Stack is empty\")\n",
    "    else:\n",
    "        e =stack1.pop()\n",
    "        print(\"Element popped is\",e)\n",
    "        print(stack1)\n",
    "\n",
    "n = int(input(\"Enter the limit of stack\"))        \n",
    "while True:\n",
    "    print(\"Enter the choice 1.push 2.pop 3.quit\")\n",
    "    choice= int(input())\n",
    "    if choice == 1:\n",
    "        push()\n",
    "    elif choice == 2:\n",
    "        pop_element()\n",
    "    elif choice == 3:\n",
    "        break\n",
    "    else:\n",
    "        print(\"Enter the correct operation\")\n",
    "        "
   ]
  },
  {
   "cell_type": "markdown",
   "id": "15f1cbce",
   "metadata": {},
   "source": [
    "# Stacks using modules (from collections)\n",
    "* collections has ------ deque()\n",
    "* for push in deque()----- append()\n",
    "* for pop in deque() ----- pop()\n"
   ]
  },
  {
   "cell_type": "code",
   "execution_count": 22,
   "id": "c6a4a377",
   "metadata": {},
   "outputs": [
    {
     "name": "stdout",
     "output_type": "stream",
     "text": [
      "deque([])\n",
      "Append elements\n",
      "deque([10])\n",
      "deque([10, 20])\n",
      "deque([10, 20, 30])\n",
      "deque([10, 20, 30, 40])\n",
      "pop elements\n",
      "deque([10, 20, 30])\n",
      "deque([10, 20])\n",
      "deque([10])\n",
      "deque([])\n"
     ]
    }
   ],
   "source": [
    "import collections\n",
    "stack = collections.deque()\n",
    "print(stack)\n",
    "print(\"Append elements\")\n",
    "stack.append(10)\n",
    "print(stack)\n",
    "stack.append(20)\n",
    "print(stack)\n",
    "stack.append(30)\n",
    "print(stack)\n",
    "stack.append(40)\n",
    "print(stack)\n",
    "print(\"pop elements\")\n",
    "stack.pop()\n",
    "print(stack)\n",
    "stack.pop()\n",
    "print(stack)\n",
    "stack.pop()\n",
    "print(stack)\n",
    "stack.pop()\n",
    "print(stack)"
   ]
  },
  {
   "cell_type": "markdown",
   "id": "3f0da26a",
   "metadata": {},
   "source": [
    "# Stacks using modules (from queue)\n",
    "* queue has ------ LifoQueue\n",
    "* for push in LifoQueue----- put()\n",
    "* for pop in LifoQueue ----- get()"
   ]
  },
  {
   "cell_type": "code",
   "execution_count": 28,
   "id": "01160721",
   "metadata": {},
   "outputs": [
    {
     "name": "stdout",
     "output_type": "stream",
     "text": [
      "<queue.LifoQueue object at 0x000002229F9F85E0>\n",
      "Append elements\n",
      "<queue.LifoQueue object at 0x000002229F9F85E0>\n",
      "pop elements\n"
     ]
    },
    {
     "data": {
      "text/plain": [
       "<queue.LifoQueue at 0x2229f9f85e0>"
      ]
     },
     "execution_count": 28,
     "metadata": {},
     "output_type": "execute_result"
    }
   ],
   "source": [
    "import queue\n",
    "stack = queue.LifoQueue()\n",
    "print(stack)\n",
    "print(\"Append elements\")\n",
    "stack.put(10)\n",
    "\n",
    "stack.put(20)\n",
    "\n",
    "stack.put(30)\n",
    "\n",
    "stack.put(40)\n",
    "print(stack)\n",
    "print(\"pop elements\")\n",
    "stack.get()\n",
    "stack"
   ]
  },
  {
   "cell_type": "code",
   "execution_count": null,
   "id": "f2dc2c17",
   "metadata": {},
   "outputs": [],
   "source": []
  }
 ],
 "metadata": {
  "kernelspec": {
   "display_name": "Python 3",
   "language": "python",
   "name": "python3"
  },
  "language_info": {
   "codemirror_mode": {
    "name": "ipython",
    "version": 3
   },
   "file_extension": ".py",
   "mimetype": "text/x-python",
   "name": "python",
   "nbconvert_exporter": "python",
   "pygments_lexer": "ipython3",
   "version": "3.8.8"
  }
 },
 "nbformat": 4,
 "nbformat_minor": 5
}
