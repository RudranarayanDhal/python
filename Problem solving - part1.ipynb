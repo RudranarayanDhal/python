{
 "cells": [
  {
   "cell_type": "code",
   "execution_count": 4,
   "id": "522a38cf",
   "metadata": {},
   "outputs": [
    {
     "name": "stdout",
     "output_type": "stream",
     "text": [
      "Enter a number: 6\n",
      "6 is an Armstrong number\n"
     ]
    }
   ],
   "source": [
    "# Python program to check if the number is an Armstrong number or not\n",
    "\n",
    "# take input from the user\n",
    "num = int(input(\"Enter a number: \"))\n",
    "n = len(str(num))\n",
    "\n",
    "# initialize sum\n",
    "sum = 0\n",
    "\n",
    "# find the sum of the cube of each digit\n",
    "temp = num\n",
    "while temp > 0:\n",
    "   digit = temp % 10\n",
    "   sum += digit ** n\n",
    "   temp //= 10\n",
    "\n",
    "# display the result\n",
    "if num == sum:\n",
    "   print(num,\"is an Armstrong number\")\n",
    "else:\n",
    "   print(num,\"is not an Armstrong number\")"
   ]
  },
  {
   "cell_type": "code",
   "execution_count": 5,
   "id": "860747de",
   "metadata": {},
   "outputs": [
    {
     "name": "stdout",
     "output_type": "stream",
     "text": [
      "How many numbers ?5\n",
      "enter any number44\n",
      "enter any number55\n",
      "enter any number66\n",
      "enter any number33\n",
      "enter any number77\n",
      "average value is 55.0\n"
     ]
    }
   ],
   "source": [
    "# how to find average of n numbers in python\n",
    "num = int(input(\"How many numbers ?\"))\n",
    "total_sum = 0\n",
    "for n in range(num):\n",
    "    numbers = float(input(\"enter any number\"))\n",
    "    total_sum += numbers\n",
    "    \n",
    "avg = total_sum /num\n",
    "print(\"average value is\" , avg)"
   ]
  },
  {
   "cell_type": "code",
   "execution_count": 6,
   "id": "632c7456",
   "metadata": {},
   "outputs": [
    {
     "name": "stdout",
     "output_type": "stream",
     "text": [
      "Enter number : 7\n",
      "28.0\n"
     ]
    }
   ],
   "source": [
    "#How to sum of the first N positive integers in python\n",
    "\n",
    "n = int(input(\"Enter number : \"))\n",
    "sum = (n *(n +1)) /2\n",
    "print(sum)"
   ]
  },
  {
   "cell_type": "code",
   "execution_count": 10,
   "id": "e11dba74",
   "metadata": {},
   "outputs": [
    {
     "name": "stdout",
     "output_type": "stream",
     "text": [
      "(15, 0.0)\n"
     ]
    }
   ],
   "source": [
    "#How to get time of a python program's execution\n",
    "\n",
    "import time\n",
    "def myFunc():\n",
    "    start_time = time.time()\n",
    "    s =0\n",
    "    for i in range(1,n+1):\n",
    "        s = s+i\n",
    "    end_time = time.time()\n",
    "    return s,end_time - start_time\n",
    "n = 5\n",
    "print(myFunc())"
   ]
  },
  {
   "cell_type": "code",
   "execution_count": 11,
   "id": "3938b512",
   "metadata": {},
   "outputs": [
    {
     "name": "stdout",
     "output_type": "stream",
     "text": [
      "HP\n"
     ]
    }
   ],
   "source": [
    "# How to get the current username in python\n",
    "import getpass\n",
    "print(getpass.getuser())"
   ]
  },
  {
   "cell_type": "code",
   "execution_count": 14,
   "id": "8fcdd2dd",
   "metadata": {},
   "outputs": [
    {
     "name": "stdout",
     "output_type": "stream",
     "text": [
      "D:\\anaconda;D:\\anaconda\\Library\\mingw-w64\\bin;D:\\anaconda\\Library\\usr\\bin;D:\\anaconda\\Library\\bin;D:\\anaconda\\Scripts;C:\\Program Files\\Common Files\\Oracle\\Java\\javapath;C:\\Program Files (x86)\\Common Files\\Oracle\\Java\\javapath;D:\\oracle\\product\\10.2.0\\db_2\\bin;D:\\oracle\\product\\10.2.0\\db_1\\bin;C:\\ProgramData\\Oracle\\Java\\javapath;C:\\Program Files\\Java\\jdk-12.0.2;C:\\windows;C:\\windows\\System32\\Wbem;C:\\windows\\System32\\WindowsPowerShell\\v1.0\\;C:\\windows\\System32\\OpenSSH\\;C:\\Program Files (x86)\\NVIDIA Corporation\\PhysX\\Common;C:\\Program Files\\NVIDIA Corporation\\NVIDIA NvDLISR;C:\\Program Files\\Java\\jdk-12.0.1\\bin;C:\\Program Files\\Java\\jdk-12.0.2\\bin;C:\\Program Files\\Git\\cmd;C:\\opscode\\chefdk\\bin\\;C:\\Users\\HP\\AppData\\Local\\Programs\\Python\\Python38-32\\Scripts\\;C:\\Users\\HP\\AppData\\Local\\Programs\\Python\\Python38-32\\;C:\\Program Files\\Java\\jdk1.8.0_161\\bin;C:\\Users\\HP\\AppData\\Local\\Programs\\Microsoft VS Code\\bin;C:\\Users\\HP\\AppData\\Local\\GitHubDesktop\\bin;C:\\Program Files\\JetBrains\\PyCharm Community Edition 2021.1.1\\bin;\n"
     ]
    }
   ],
   "source": [
    "#How to access environment variables in python\n",
    "\n",
    "import os\n",
    "print(os.environ['PATH'])"
   ]
  },
  {
   "cell_type": "code",
   "execution_count": 20,
   "id": "ea6c4c1e",
   "metadata": {},
   "outputs": [
    {
     "name": "stdout",
     "output_type": "stream",
     "text": [
      "1 3\n",
      "         65 function calls in 0.000 seconds\n",
      "\n",
      "   Ordered by: standard name\n",
      "\n",
      "   ncalls  tottime  percall  cumtime  percall filename:lineno(function)\n",
      "        1    0.000    0.000    0.000    0.000 <ipython-input-20-e8b94444d9b6>:3(sum)\n",
      "        1    0.000    0.000    0.000    0.000 <string>:1(<module>)\n",
      "        5    0.000    0.000    0.000    0.000 iostream.py:197(schedule)\n",
      "        4    0.000    0.000    0.000    0.000 iostream.py:310(_is_master_process)\n",
      "        4    0.000    0.000    0.000    0.000 iostream.py:323(_schedule_flush)\n",
      "        4    0.000    0.000    0.000    0.000 iostream.py:386(write)\n",
      "        5    0.000    0.000    0.000    0.000 iostream.py:93(_event_pipe)\n",
      "        5    0.000    0.000    0.000    0.000 socket.py:432(send)\n",
      "        5    0.000    0.000    0.000    0.000 threading.py:1017(_wait_for_tstate_lock)\n",
      "        5    0.000    0.000    0.000    0.000 threading.py:1071(is_alive)\n",
      "        5    0.000    0.000    0.000    0.000 threading.py:513(is_set)\n",
      "        1    0.000    0.000    0.000    0.000 {built-in method builtins.exec}\n",
      "        4    0.000    0.000    0.000    0.000 {built-in method builtins.isinstance}\n",
      "        1    0.000    0.000    0.000    0.000 {built-in method builtins.print}\n",
      "        4    0.000    0.000    0.000    0.000 {built-in method nt.getpid}\n",
      "        5    0.000    0.000    0.000    0.000 {method 'acquire' of '_thread.lock' objects}\n",
      "        5    0.000    0.000    0.000    0.000 {method 'append' of 'collections.deque' objects}\n",
      "        1    0.000    0.000    0.000    0.000 {method 'disable' of '_lsprof.Profiler' objects}\n",
      "\n",
      "\n"
     ]
    }
   ],
   "source": [
    "#How to do a profile python script\n",
    "import cProfile\n",
    "def sum():\n",
    "    print(1,3)\n",
    "    \n",
    "cProfile.run('sum()')"
   ]
  },
  {
   "cell_type": "code",
   "execution_count": 24,
   "id": "f0af4f5f",
   "metadata": {},
   "outputs": [
    {
     "name": "stdout",
     "output_type": "stream",
     "text": [
      "Enter the amount :10000\n",
      "Future value of the amount 10000.0 is 20042\n"
     ]
    }
   ],
   "source": [
    "#How to compute the future value of rate of interest and a number of years in python\n",
    "\n",
    "\n",
    "amt =float(input(\"Enter the amount :\"))\n",
    "inte = 3.6\n",
    "year = 10\n",
    "future_value = amt *((1+(0.02*inte))** year)\n",
    "print(\"Future value of the amount\",amt,\"is\",round(future_value))"
   ]
  },
  {
   "cell_type": "code",
   "execution_count": 26,
   "id": "77c0a567",
   "metadata": {},
   "outputs": [
    {
     "name": "stdout",
     "output_type": "stream",
     "text": [
      "Distnce between the points [4, 4] and [6, 33] is 29.068883707497267\n"
     ]
    }
   ],
   "source": [
    "#How to calculate distance between two points in python\n",
    "import math\n",
    "p1 =[4,4]\n",
    "p2 = [6,33]\n",
    "distance = math.sqrt((p1[0]-p2[0])**2 + (p1[1]-p2[1])**2)\n",
    "print(\"Distnce between the points\",p1,\"and\",p2,\"is\",distance)\n"
   ]
  },
  {
   "cell_type": "code",
   "execution_count": null,
   "id": "0b870925",
   "metadata": {},
   "outputs": [],
   "source": []
  }
 ],
 "metadata": {
  "kernelspec": {
   "display_name": "Python 3",
   "language": "python",
   "name": "python3"
  },
  "language_info": {
   "codemirror_mode": {
    "name": "ipython",
    "version": 3
   },
   "file_extension": ".py",
   "mimetype": "text/x-python",
   "name": "python",
   "nbconvert_exporter": "python",
   "pygments_lexer": "ipython3",
   "version": "3.8.8"
  }
 },
 "nbformat": 4,
 "nbformat_minor": 5
}
