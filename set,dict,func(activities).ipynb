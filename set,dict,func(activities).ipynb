{
 "cells": [
  {
   "cell_type": "code",
   "execution_count": 28,
   "id": "d0dbd962",
   "metadata": {},
   "outputs": [
    {
     "name": "stdout",
     "output_type": "stream",
     "text": [
      "{1, 2, 5, 6}\n"
     ]
    }
   ],
   "source": [
    "x = {1,2,3,4}\n",
    "v ={ 3,4,5,6}\n",
    "t =x.symmetric_difference(v)\n",
    "print(t)"
   ]
  },
  {
   "cell_type": "code",
   "execution_count": 29,
   "id": "12f7dbe2",
   "metadata": {},
   "outputs": [],
   "source": [
    "x={1:\"aaa\",2:\"bbb\",3:\"ccc\",4:\"ddd\",5:\"ttt\"}"
   ]
  },
  {
   "cell_type": "code",
   "execution_count": 30,
   "id": "6967e2eb",
   "metadata": {},
   "outputs": [
    {
     "data": {
      "text/plain": [
       "dict_keys([1, 2, 3, 4, 5])"
      ]
     },
     "execution_count": 30,
     "metadata": {},
     "output_type": "execute_result"
    }
   ],
   "source": [
    "x.keys()"
   ]
  },
  {
   "cell_type": "code",
   "execution_count": 31,
   "id": "176d81b3",
   "metadata": {},
   "outputs": [
    {
     "data": {
      "text/plain": [
       "dict_items([(1, 'aaa'), (2, 'bbb'), (3, 'ccc'), (4, 'ddd'), (5, 'ttt')])"
      ]
     },
     "execution_count": 31,
     "metadata": {},
     "output_type": "execute_result"
    }
   ],
   "source": [
    "x.items()"
   ]
  },
  {
   "cell_type": "code",
   "execution_count": 32,
   "id": "47a4965f",
   "metadata": {},
   "outputs": [],
   "source": [
    "x.update({5:\"eee\"})"
   ]
  },
  {
   "cell_type": "code",
   "execution_count": 33,
   "id": "5e3e9208",
   "metadata": {},
   "outputs": [
    {
     "data": {
      "text/plain": [
       "{1: 'aaa', 2: 'bbb', 3: 'ccc', 4: 'ddd', 5: 'eee'}"
      ]
     },
     "execution_count": 33,
     "metadata": {},
     "output_type": "execute_result"
    }
   ],
   "source": [
    "x"
   ]
  },
  {
   "cell_type": "code",
   "execution_count": 34,
   "id": "81643f31",
   "metadata": {},
   "outputs": [],
   "source": [
    "x[5]=\"fff\""
   ]
  },
  {
   "cell_type": "code",
   "execution_count": 35,
   "id": "08c56e55",
   "metadata": {},
   "outputs": [
    {
     "data": {
      "text/plain": [
       "{1: 'aaa', 2: 'bbb', 3: 'ccc', 4: 'ddd', 5: 'fff'}"
      ]
     },
     "execution_count": 35,
     "metadata": {},
     "output_type": "execute_result"
    }
   ],
   "source": [
    "x"
   ]
  },
  {
   "cell_type": "code",
   "execution_count": 36,
   "id": "c9b9f907",
   "metadata": {},
   "outputs": [],
   "source": [
    "y = x"
   ]
  },
  {
   "cell_type": "code",
   "execution_count": 37,
   "id": "140423a3",
   "metadata": {},
   "outputs": [
    {
     "data": {
      "text/plain": [
       "{1: 'aaa', 2: 'bbb', 3: 'ccc', 4: 'ddd', 5: 'fff'}"
      ]
     },
     "execution_count": 37,
     "metadata": {},
     "output_type": "execute_result"
    }
   ],
   "source": [
    "y"
   ]
  },
  {
   "cell_type": "code",
   "execution_count": 38,
   "id": "01e7ff61",
   "metadata": {},
   "outputs": [
    {
     "data": {
      "text/plain": [
       "(5, 'fff')"
      ]
     },
     "execution_count": 38,
     "metadata": {},
     "output_type": "execute_result"
    }
   ],
   "source": [
    "y.popitem()"
   ]
  },
  {
   "cell_type": "code",
   "execution_count": 39,
   "id": "5dd421f7",
   "metadata": {},
   "outputs": [
    {
     "data": {
      "text/plain": [
       "{1: 'aaa', 2: 'bbb', 3: 'ccc', 4: 'ddd'}"
      ]
     },
     "execution_count": 39,
     "metadata": {},
     "output_type": "execute_result"
    }
   ],
   "source": [
    "y"
   ]
  },
  {
   "cell_type": "code",
   "execution_count": 40,
   "id": "024a2e4f",
   "metadata": {},
   "outputs": [
    {
     "data": {
      "text/plain": [
       "{1: 'aaa', 2: 'bbb', 3: 'ccc', 4: 'ddd'}"
      ]
     },
     "execution_count": 40,
     "metadata": {},
     "output_type": "execute_result"
    }
   ],
   "source": [
    "x"
   ]
  },
  {
   "cell_type": "code",
   "execution_count": 41,
   "id": "97bf6ca7",
   "metadata": {},
   "outputs": [
    {
     "name": "stdout",
     "output_type": "stream",
     "text": [
      "1\n",
      "2\n",
      "3\n",
      "4\n"
     ]
    }
   ],
   "source": [
    "for i in x:\n",
    "    print(i)"
   ]
  },
  {
   "cell_type": "code",
   "execution_count": 42,
   "id": "250062ee",
   "metadata": {},
   "outputs": [
    {
     "name": "stdout",
     "output_type": "stream",
     "text": [
      "aaa\n",
      "bbb\n",
      "ccc\n",
      "ddd\n"
     ]
    }
   ],
   "source": [
    "for i in x:\n",
    "    print(x[i])"
   ]
  },
  {
   "cell_type": "code",
   "execution_count": 43,
   "id": "bbf7b5bd",
   "metadata": {},
   "outputs": [
    {
     "name": "stdout",
     "output_type": "stream",
     "text": [
      "{1: 'aaa', 2: 'bbb', 3: 'ccc', 4: 'ddd', 5: 'ee', 6: 'ff'}\n"
     ]
    }
   ],
   "source": [
    "y={1:\"aa\",2:\"bb\"}\n",
    "z={3:\"cc\",4:\"dd\"}\n",
    "a={5:\"ee\",6:\"ff\"}\n",
    "y.update(x)\n",
    "y.update(a)\n",
    "\n",
    "print(y)\n"
   ]
  },
  {
   "cell_type": "code",
   "execution_count": null,
   "id": "3a65a1d8",
   "metadata": {},
   "outputs": [],
   "source": [
    "# dispaly the dictionary value using string format"
   ]
  },
  {
   "cell_type": "code",
   "execution_count": 45,
   "id": "d0675b87",
   "metadata": {},
   "outputs": [
    {
     "name": "stdout",
     "output_type": "stream",
     "text": [
      "name: rudra, address: banki, street: lane 1, state: Odisha\n",
      "None\n"
     ]
    }
   ],
   "source": [
    "x={\"name\":\"rudra\",\"address\":\"banki\",\"street\":\"lane 1\",\"state\":\"Odisha\"}\n",
    "print(print (\"name: {}, address: {}, street: {}, state: {}\".format(x['name'], x['address'], x['street'], x['state']))\n",
    ")"
   ]
  },
  {
   "cell_type": "code",
   "execution_count": 53,
   "id": "31796ba3",
   "metadata": {},
   "outputs": [],
   "source": [
    "# multiply the values present in a dictionary"
   ]
  },
  {
   "cell_type": "code",
   "execution_count": 47,
   "id": "f49506cd",
   "metadata": {},
   "outputs": [
    {
     "name": "stdout",
     "output_type": "stream",
     "text": [
      "1200\n"
     ]
    }
   ],
   "source": [
    "d = {'Apple': 10, 'banana': 5,'orange':4,'Guava':6} \n",
    "ans = 1\n",
    "for i in d:\n",
    "  ans = ans*d[i]\n",
    "print(ans)"
   ]
  },
  {
   "cell_type": "code",
   "execution_count": 48,
   "id": "5cf6755e",
   "metadata": {},
   "outputs": [
    {
     "name": "stdout",
     "output_type": "stream",
     "text": [
      "hari = 59\n"
     ]
    }
   ],
   "source": [
    "x={'hari':59,'sunny':60}\n",
    "if 'hari' in x:\n",
    "    print(\"hari\",'=',x['hari'])\n",
    "else:\n",
    "    print(\"not found\")"
   ]
  },
  {
   "cell_type": "code",
   "execution_count": null,
   "id": "902173de",
   "metadata": {},
   "outputs": [],
   "source": [
    "# take user input of a dictionary and check one key is present or not"
   ]
  },
  {
   "cell_type": "code",
   "execution_count": 49,
   "id": "62b57351",
   "metadata": {},
   "outputs": [
    {
     "name": "stdout",
     "output_type": "stream",
     "text": [
      "enter no.of records2\n",
      "enter key:hari\n",
      "enter value:59\n",
      "enter key:sunny\n",
      "enter value:60\n",
      "enter key to check:hari\n",
      "hari=59\n"
     ]
    }
   ],
   "source": [
    "dicty={}\n",
    "x=int(input(\"enter no.of records\"))\n",
    "for i in range(x):\n",
    "    key=input(\"enter key:\")\n",
    "    val=int(input(\"enter value:\"))\n",
    "    dicty[key]=val\n",
    "check=input(\"enter key to check:\")\n",
    "if check in dicty.keys():\n",
    "    print(f\"{check}={dicty[check]}\")\n"
   ]
  },
  {
   "cell_type": "code",
   "execution_count": 54,
   "id": "fdc06c5f",
   "metadata": {},
   "outputs": [],
   "source": [
    "#using lambda function sort a list"
   ]
  },
  {
   "cell_type": "code",
   "execution_count": 50,
   "id": "5587d5f0",
   "metadata": {},
   "outputs": [
    {
     "name": "stdout",
     "output_type": "stream",
     "text": [
      "[('Sst', 82), ('Eng', 88), ('Sci', 90), ('Maths', 97)]\n"
     ]
    }
   ],
   "source": [
    "x = [('Eng', 88), ('Sci', 90), ('Maths', 97), ('Sst', 82)]\n",
    "x.sort(key=lambda x:x[1])\n",
    "print(x)"
   ]
  },
  {
   "cell_type": "code",
   "execution_count": 51,
   "id": "186b796d",
   "metadata": {},
   "outputs": [
    {
     "name": "stdout",
     "output_type": "stream",
     "text": [
      "coming from if\n"
     ]
    }
   ],
   "source": [
    "def fun(a,b):\n",
    "    if a == 1:\n",
    "        print(\"coming from if\")\n",
    "    elif b ==1 :\n",
    "        print(\"coming from elif\")\n",
    "    else:\n",
    "        print(\"no op\")\n",
    "fun(1,2)"
   ]
  },
  {
   "cell_type": "code",
   "execution_count": null,
   "id": "8c1f8105",
   "metadata": {},
   "outputs": [],
   "source": [
    "# take a dictionary and find the average of phy in mark\n"
   ]
  },
  {
   "cell_type": "code",
   "execution_count": 52,
   "id": "521c8451",
   "metadata": {},
   "outputs": [
    {
     "name": "stdout",
     "output_type": "stream",
     "text": [
      "66.0\n"
     ]
    }
   ],
   "source": [
    "dict={1:{'name':'Ram','Mark':{'phy':56,'chem':78}},2:{'name':'Hari','Mark':{'phy':76,'chem':88}}}\n",
    "def average(dict):\n",
    "    sum = 0\n",
    "    count =0\n",
    "    for i in dict.values():\n",
    "        sum = sum + i[\"Mark\"][\"phy\"]\n",
    "        count = count+1\n",
    "    print(sum/count)\n",
    "\n",
    "avg(dict)"
   ]
  },
  {
   "cell_type": "code",
   "execution_count": null,
   "id": "8e2d0759",
   "metadata": {},
   "outputs": [],
   "source": []
  }
 ],
 "metadata": {
  "kernelspec": {
   "display_name": "Python 3",
   "language": "python",
   "name": "python3"
  },
  "language_info": {
   "codemirror_mode": {
    "name": "ipython",
    "version": 3
   },
   "file_extension": ".py",
   "mimetype": "text/x-python",
   "name": "python",
   "nbconvert_exporter": "python",
   "pygments_lexer": "ipython3",
   "version": "3.8.8"
  }
 },
 "nbformat": 4,
 "nbformat_minor": 5
}
