{
 "cells": [
  {
   "cell_type": "markdown",
   "id": "2f38389d",
   "metadata": {},
   "source": [
    "# python data_structure(Queue)\n",
    "* queue is a linear data structure where inserting and removing of elements are done in diffent two ends\n",
    "* the end where we INSERT elements is called RARE/BACK/TAIL\n",
    "* the end where we REMOVE elements is called FRONT/HEAD"
   ]
  },
  {
   "cell_type": "markdown",
   "id": "614cf35c",
   "metadata": {},
   "source": [
    "QUEUE uses  FIFO - First In First Out and\n",
    "\n",
    "            \n",
    "            LILO - Last In Last Out\n",
    "          "
   ]
  },
  {
   "cell_type": "markdown",
   "id": "88951592",
   "metadata": {},
   "source": [
    "# Queue operations\n",
    "* The processing of INSERTING elements in a queue is called ENQUEUE\n",
    "* The processing of REMOVING elements from a queue is called DEQUEUE\n",
    "* isFull\n",
    "* isEmpty\n"
   ]
  },
  {
   "cell_type": "markdown",
   "id": "ead04a5b",
   "metadata": {},
   "source": [
    "# Queue implementation using List\n",
    "* for ENQUEUE --- append()\n",
    "* for DEQUEUE --- pop (0) \n",
    "* NOTE ---- We have to write pop(0) because WE ARE REMOVING ELEMENTS FROM FRONT/HEAD OF THE QUEUE NOT FROM THE TAIL SIDE."
   ]
  },
  {
   "cell_type": "code",
   "execution_count": 1,
   "id": "b568a238",
   "metadata": {},
   "outputs": [
    {
     "name": "stdout",
     "output_type": "stream",
     "text": [
      "[10]\n",
      "[10, 20]\n",
      "[10, 20, 30]\n",
      "[20, 30]\n",
      "[30]\n",
      "[]\n"
     ]
    }
   ],
   "source": [
    "queue = []\n",
    "queue.append(10)\n",
    "print(queue)\n",
    "queue.append(20)\n",
    "print(queue)\n",
    "queue.append(30)\n",
    "print(queue)\n",
    "queue.pop(0)\n",
    "print(queue)\n",
    "queue.pop(0)\n",
    "print(queue)\n",
    "queue.pop(0)\n",
    "print(queue)"
   ]
  },
  {
   "cell_type": "code",
   "execution_count": 2,
   "id": "33445ecd",
   "metadata": {},
   "outputs": [
    {
     "name": "stdout",
     "output_type": "stream",
     "text": [
      "[10]\n",
      "[10, 20]\n",
      "[10, 20, 30]\n",
      "[20, 30]\n",
      "[30]\n",
      "[]\n"
     ]
    }
   ],
   "source": [
    "# by using insert()\n",
    "queue = []\n",
    "queue.insert(0,10)\n",
    "print(queue)\n",
    "queue.insert(1,20)\n",
    "print(queue)\n",
    "queue.insert(3,30)\n",
    "print(queue)\n",
    "queue.pop(0)\n",
    "print(queue)\n",
    "queue.pop(0)\n",
    "print(queue)\n",
    "queue.pop(0)\n",
    "print(queue)"
   ]
  },
  {
   "cell_type": "code",
   "execution_count": 7,
   "id": "89e3af77",
   "metadata": {},
   "outputs": [
    {
     "data": {
      "text/plain": [
       "True"
      ]
     },
     "execution_count": 7,
     "metadata": {},
     "output_type": "execute_result"
    }
   ],
   "source": [
    "# queue is empty or not\n",
    "queue = []\n",
    "not queue"
   ]
  },
  {
   "cell_type": "code",
   "execution_count": 10,
   "id": "d2d055fb",
   "metadata": {},
   "outputs": [
    {
     "name": "stdout",
     "output_type": "stream",
     "text": [
      "100\n",
      "10\n"
     ]
    }
   ],
   "source": [
    "queue.append(10)\n",
    "queue.append(30)\n",
    "queue.append(100)\n",
    "print(queue[-1]) # rear\n",
    "print(queue[0])  # front"
   ]
  },
  {
   "cell_type": "code",
   "execution_count": 14,
   "id": "e4cd90a5",
   "metadata": {},
   "outputs": [
    {
     "name": "stdout",
     "output_type": "stream",
     "text": [
      "Enter the choice 1.add 2.remove 3.show 3.quit\n",
      "1\n",
      "Enter the element :12\n",
      "12 is added to the queue\n",
      "The queue is ['12']\n",
      "Enter the choice 1.add 2.remove 3.show 3.quit\n",
      "1\n",
      "Enter the element :1\n",
      "1 is added to the queue\n",
      "The queue is ['12', '1']\n",
      "Enter the choice 1.add 2.remove 3.show 3.quit\n",
      "1\n",
      "Enter the element :14\n",
      "14 is added to the queue\n",
      "The queue is ['12', '1', '14']\n",
      "Enter the choice 1.add 2.remove 3.show 3.quit\n",
      "3\n",
      "['12', '1', '14']\n",
      "Enter the choice 1.add 2.remove 3.show 3.quit\n",
      "2\n",
      "Element popped is 12\n",
      "['1', '14']\n",
      "Enter the choice 1.add 2.remove 3.show 3.quit\n",
      "2\n",
      "Element popped is 1\n",
      "['14']\n",
      "Enter the choice 1.add 2.remove 3.show 3.quit\n",
      "2\n",
      "Element popped is 14\n",
      "[]\n",
      "Enter the choice 1.add 2.remove 3.show 3.quit\n",
      "2\n",
      "queue is empty\n",
      "Enter the choice 1.add 2.remove 3.show 3.quit\n",
      "4\n"
     ]
    }
   ],
   "source": [
    "# queue =[]\n",
    "def enqueue():\n",
    "    element = input(\"Enter the element :\")\n",
    "    queue.append(element)\n",
    "    print( element,\"is added to the queue\")\n",
    "    print(\"The queue is\",queue)\n",
    "def dequeue():\n",
    "    if not queue:\n",
    "        print(\"queue is empty\")\n",
    "    else:\n",
    "        e =queue.pop(0)\n",
    "        print(\"Element popped is\",e)\n",
    "        print(queue)\n",
    "def display():\n",
    "    print(queue)\n",
    "while True:\n",
    "    print(\"Enter the choice 1.add 2.remove 3.show 3.quit\")\n",
    "    choice= int(input())\n",
    "    if choice == 1:\n",
    "        enqueue()\n",
    "    elif choice == 2:\n",
    "        dequeue()\n",
    "    elif choice == 3:\n",
    "        display()\n",
    "    elif choice == 4:\n",
    "        break\n",
    "    else:\n",
    "        print(\"Enter the correct operation\")\n",
    "        "
   ]
  },
  {
   "cell_type": "markdown",
   "id": "57e67310",
   "metadata": {},
   "source": [
    "# Queue implementation using Classes"
   ]
  },
  {
   "cell_type": "markdown",
   "id": "105a01f4",
   "metadata": {},
   "source": [
    "1) deque - collections"
   ]
  },
  {
   "cell_type": "markdown",
   "id": "4510cfba",
   "metadata": {},
   "source": [
    "* (appendleft)for ADDING elements in this FRONT ----->                          <---- (apppend) for INSERT in REAR\n",
    "\n",
    "                 ------------------------------------------------\n",
    "\n",
    "                 ------------------------------------------------\n",
    "                                                          \n",
    "* (popleft)for REMOVING elements in this FRONT ----->                          <-------(pop) for REMOVE in REAR"
   ]
  },
  {
   "cell_type": "code",
   "execution_count": 15,
   "id": "91c18db6",
   "metadata": {},
   "outputs": [
    {
     "name": "stdout",
     "output_type": "stream",
     "text": [
      "deque([])\n",
      "deque([30, 20, 10])\n",
      "deque([30, 20])\n"
     ]
    }
   ],
   "source": [
    "import collections\n",
    "q = collections.deque()\n",
    "print(q)\n",
    "q.appendleft(10)\n",
    "q.appendleft(20)\n",
    "q.appendleft(30)\n",
    "print(q)\n",
    "q.pop()\n",
    "print(q)"
   ]
  },
  {
   "cell_type": "code",
   "execution_count": 16,
   "id": "1ec809d1",
   "metadata": {},
   "outputs": [
    {
     "name": "stdout",
     "output_type": "stream",
     "text": [
      "deque([])\n",
      "deque([10, 20, 30])\n",
      "deque([20, 30])\n",
      "deque([30])\n"
     ]
    }
   ],
   "source": [
    "import collections\n",
    "q = collections.deque()\n",
    "print(q)\n",
    "q.append(10)\n",
    "q.append(20)\n",
    "q.append(30)\n",
    "print(q)\n",
    "q.popleft()\n",
    "print(q)\n",
    "q.popleft()\n",
    "print(q)"
   ]
  },
  {
   "cell_type": "code",
   "execution_count": 17,
   "id": "47a9697c",
   "metadata": {},
   "outputs": [
    {
     "data": {
      "text/plain": [
       "True"
      ]
     },
     "execution_count": 17,
     "metadata": {},
     "output_type": "execute_result"
    }
   ],
   "source": [
    "# for empty queue\n",
    "import collections\n",
    "q = collections.deque()\n",
    "not q"
   ]
  },
  {
   "cell_type": "code",
   "execution_count": null,
   "id": "511a775b",
   "metadata": {},
   "outputs": [],
   "source": []
  }
 ],
 "metadata": {
  "kernelspec": {
   "display_name": "Python 3",
   "language": "python",
   "name": "python3"
  },
  "language_info": {
   "codemirror_mode": {
    "name": "ipython",
    "version": 3
   },
   "file_extension": ".py",
   "mimetype": "text/x-python",
   "name": "python",
   "nbconvert_exporter": "python",
   "pygments_lexer": "ipython3",
   "version": "3.8.8"
  }
 },
 "nbformat": 4,
 "nbformat_minor": 5
}
